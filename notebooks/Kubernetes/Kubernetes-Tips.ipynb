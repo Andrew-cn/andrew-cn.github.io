{
 "cells": [
  {
   "cell_type": "markdown",
   "metadata": {},
   "source": [
    "# Jupyter Notebooks for Kubernetes\n",
    "https://github.com/kubernetes-client/python/tree/master/examples/notebooks"
   ]
  },
  {
   "cell_type": "markdown",
   "metadata": {},
   "source": [
    "# Kubernetes指南\n",
    "* https://kubernetes.io/docs/reference/generated/kubectl/kubectl-commands\n",
    "* https://github.com/feiskyer/kubernetes-handbook\n",
    "* https://kubernetes.feisky.xyz/"
   ]
  },
  {
   "cell_type": "markdown",
   "metadata": {},
   "source": [
    "## [Kubernetes Deployment 终极指南](https://blog.fleeto.us/post/kubernetes-deployments-the-ultimate-guide/)"
   ]
  }
 ],
 "metadata": {
  "kernelspec": {
   "display_name": "Python 3",
   "language": "python",
   "name": "python3"
  },
  "language_info": {
   "codemirror_mode": {
    "name": "ipython",
    "version": 3
   },
   "file_extension": ".py",
   "mimetype": "text/x-python",
   "name": "python",
   "nbconvert_exporter": "python",
   "pygments_lexer": "ipython3",
   "version": "3.6.7"
  }
 },
 "nbformat": 4,
 "nbformat_minor": 4
}
