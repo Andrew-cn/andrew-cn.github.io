{
 "cells": [
  {
   "cell_type": "markdown",
   "metadata": {},
   "source": [
    "* https://med.sawai.co.jp/newproducts/201806/detail09.html\n",
    "* https://med.sawai.co.jp/preview.php?prodid=4630&mode=link&prodname=%E3%83%A9%E3%83%A2%E3%83%88%E3%83%AA%E3%82%AE%E3%83%B3%E9%8C%A025mg%E3%80%8C%E3%82%B5%E3%83%AF%E3%82%A4%E3%80%8D\n",
    "* https://www.nichiiko.co.jp/medicine/product/04040"
   ]
  }
 ],
 "metadata": {
  "kernelspec": {
   "display_name": "Python 3",
   "language": "python",
   "name": "python3"
  },
  "language_info": {
   "codemirror_mode": {
    "name": "ipython",
    "version": 3
   },
   "file_extension": ".py",
   "mimetype": "text/x-python",
   "name": "python",
   "nbconvert_exporter": "python",
   "pygments_lexer": "ipython3",
   "version": "3.6.7"
  }
 },
 "nbformat": 4,
 "nbformat_minor": 4
}
