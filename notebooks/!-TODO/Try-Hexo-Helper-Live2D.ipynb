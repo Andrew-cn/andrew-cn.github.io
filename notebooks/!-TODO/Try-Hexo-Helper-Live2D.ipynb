{
 "cells": [
  {
   "cell_type": "markdown",
   "metadata": {},
   "source": [
    "* https://l2dwidget.js.org/docs/index.html\n",
    "* https://techstay.github.io/my-static-blog/2018/09/15/在Hexo博客上添加可爱的Live-2D模型/"
   ]
  }
 ],
 "metadata": {
  "kernelspec": {
   "display_name": "Python 3",
   "language": "python",
   "name": "python3"
  },
  "language_info": {
   "codemirror_mode": {
    "name": "ipython",
    "version": 3
   },
   "file_extension": ".py",
   "mimetype": "text/x-python",
   "name": "python",
   "nbconvert_exporter": "python",
   "pygments_lexer": "ipython3",
   "version": "3.6.7"
  }
 },
 "nbformat": 4,
 "nbformat_minor": 4
}
