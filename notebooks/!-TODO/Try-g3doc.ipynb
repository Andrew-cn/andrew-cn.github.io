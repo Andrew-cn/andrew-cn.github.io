{
 "cells": [
  {
   "cell_type": "markdown",
   "metadata": {},
   "source": [
    "https://www.usenix.org/sites/default/files/conference/protected-files/srecon16europe_slides_macnamara.pdf"
   ]
  },
  {
   "cell_type": "markdown",
   "metadata": {},
   "source": [
    "* https://github.com/tensorflow/tensorflow/tree/master/tensorflow/tools/docs\n",
    "* https://github.com/tensorflow/tensorflow/tree/master/tensorflow/lite/g3doc\n",
    "* https://github.com/tensorflow/tensorflow/tree/master/tensorflow/g3doc\n",
    "* https://github.com/tensorflow/models/tree/master/research/object_detection/g3doc"
   ]
  }
 ],
 "metadata": {
  "kernelspec": {
   "display_name": "Python 3",
   "language": "python",
   "name": "python3"
  },
  "language_info": {
   "codemirror_mode": {
    "name": "ipython",
    "version": 3
   },
   "file_extension": ".py",
   "mimetype": "text/x-python",
   "name": "python",
   "nbconvert_exporter": "python",
   "pygments_lexer": "ipython3",
   "version": "3.6.7"
  }
 },
 "nbformat": 4,
 "nbformat_minor": 4
}
