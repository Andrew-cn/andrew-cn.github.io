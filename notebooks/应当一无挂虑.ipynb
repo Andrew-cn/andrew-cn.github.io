{
 "cells": [
  {
   "cell_type": "markdown",
   "metadata": {},
   "source": [
    "> 当叫众人知道你们的谦让宜人。主是近的。应当一无挂虑，只要凡事借着祷告、祈求，带着感谢，将你们所要的告诉　　神；　　神那超越人所能理解的平安，必在基督耶稣里，保卫你们的心怀意念。\n",
    "> —— 腓力比书 4:5 ~ 4:7"
   ]
  },
  {
   "cell_type": "markdown",
   "metadata": {},
   "source": [
    "> Let your forbearance be known to all men. The Lord is near. In nothing be anxious, but in everything, by prayer and petition with thanksgiving, let your requests be made known to God; And the peace of God, which surpasses every man's understanding, will guard your hearts and your thoughts in Christ Jesus.\n",
    "> —— Philippians 4:5 ~ 4:7"
   ]
  },
  {
   "cell_type": "markdown",
   "metadata": {},
   "source": [
    "> 『我留下平安给你们，我将我的平安赐给你们；我所赐给你们的，不像世人所赐的。你们心里不要受搅扰，也不要胆怯。』约十四27\n",
    ">\n",
    "> 『你们听见我曾对你们说，我去，并且我正往你们这里来。你们若爱我，因我往父那里去，就必喜乐，因为父比我大。』约十四28"
   ]
  },
  {
   "cell_type": "markdown",
   "metadata": {},
   "source": [
    "> 『Peace I leave with you; My peace I give to you; not as the world gives do I give to you. Do not let your heart be troubled, neither let it be afraid.』John十四27\n",
    ">\n",
    "> 『You have heard that I said to you, I am going away and I am coming to you. If you loved Me, you would rejoice because I am going to the Father, for the Father is greater than I.』John十四28\n",
    " "
   ]
  },
  {
   "cell_type": "markdown",
   "metadata": {},
   "source": [
    "https://bibletruth.cn/bible/jw/index.html\n",
    "\n",
    "https://bibletruth.cn/sj/Hfb/index.html"
   ]
  },
  {
   "cell_type": "markdown",
   "metadata": {},
   "source": [
    "> 『He who is not with Me is against Me, and he who does not gather with Me scatters.』Matt.十二30"
   ]
  },
  {
   "cell_type": "markdown",
   "metadata": {},
   "source": [
    "> 不与我相合的，就是敌我的；不同我收聚的，就是分散的。\n",
    "> 马太福音 12:30"
   ]
  },
  {
   "cell_type": "markdown",
   "metadata": {},
   "source": [
    "> 要医治病弱的，复活死亡的，洁净患麻风的，把鬼赶出去；你们白白的领受了，就要白白的施与。\n",
    "> 马太福音 10:8"
   ]
  },
  {
   "cell_type": "markdown",
   "metadata": {},
   "source": [
    "> Heal the sick, raise the dead, cleanse the lepers, cast out demons. Freely you have received; freely give.\n",
    "> Matthew 10:8"
   ]
  },
  {
   "cell_type": "markdown",
   "metadata": {},
   "source": [
    "> 病人をいやし、死人を蘇らせ、らい病人を清め、悪霊を追い出せ。ただで受けたのだから、ただで与えるがよい。\n",
    "> マタイによる福音書 10:8"
   ]
  },
  {
   "cell_type": "markdown",
   "metadata": {},
   "source": [
    "> 死者蘇生\n",
    "> 死人復活"
   ]
  }
 ],
 "metadata": {
  "kernelspec": {
   "display_name": "Python 3",
   "language": "python",
   "name": "python3"
  },
  "language_info": {
   "codemirror_mode": {
    "name": "ipython",
    "version": 3
   },
   "file_extension": ".py",
   "mimetype": "text/x-python",
   "name": "python",
   "nbconvert_exporter": "python",
   "pygments_lexer": "ipython3",
   "version": "3.6.7"
  }
 },
 "nbformat": 4,
 "nbformat_minor": 4
}
