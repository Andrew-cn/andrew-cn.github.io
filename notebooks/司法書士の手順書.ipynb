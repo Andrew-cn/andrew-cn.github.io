{
 "cells": [
  {
   "cell_type": "markdown",
   "metadata": {},
   "source": [
    "1. 阪神三宫沿线徒步10-15分钟\n",
    "2. 朝南（最好是卧室，不行的话就客厅）\n",
    "3. 楼层越高越好（但是不要顶楼）\n",
    "\n",
    "最后，如果都不能满足。则考虑\n",
    "1. 甲子园 2. 西宫 3. 武库川"
   ]
  }
 ],
 "metadata": {
  "kernelspec": {
   "display_name": "Python 3",
   "language": "python",
   "name": "python3"
  },
  "language_info": {
   "codemirror_mode": {
    "name": "ipython",
    "version": 3
   },
   "file_extension": ".py",
   "mimetype": "text/x-python",
   "name": "python",
   "nbconvert_exporter": "python",
   "pygments_lexer": "ipython3",
   "version": "3.6.7"
  }
 },
 "nbformat": 4,
 "nbformat_minor": 4
}
