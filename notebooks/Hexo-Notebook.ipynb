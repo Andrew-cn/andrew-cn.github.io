{
 "cells": [
  {
   "cell_type": "markdown",
   "metadata": {},
   "source": [
    "# A Primitive Post of ipynb"
   ]
  },
  {
   "cell_type": "code",
   "execution_count": 1,
   "metadata": {},
   "outputs": [
    {
     "name": "stdout",
     "output_type": "stream",
     "text": [
      "Cloning into 'hexo-ipynb'...\n",
      "remote: Enumerating objects: 58, done.\u001b[K\n",
      "remote: Total 58 (delta 0), reused 0 (delta 0), pack-reused 58\u001b[K\n",
      "Unpacking objects: 100% (58/58), done.\n"
     ]
    }
   ],
   "source": [
    "!sudo ln -sf `which python` /usr/bin/python\n",
    "!cd ~/hexo/node_modules && rm -rf hexo-ipynb\n",
    "!cd ~/hexo/node_modules && git clone --branch fix/freeman https://github.com/seii-saintway/hexo-ipynb.git"
   ]
  },
  {
   "cell_type": "code",
   "execution_count": 2,
   "metadata": {},
   "outputs": [
    {
     "name": "stdout",
     "output_type": "stream",
     "text": [
      "(node:16780) [DEP0061] DeprecationWarning: fs.SyncWriteStream is deprecated.\n",
      "\u001b[32mINFO \u001b[39m Created: \u001b[35m~/hexo/source/_posts/Hexo-Notebook.md\u001b[39m\n"
     ]
    }
   ],
   "source": [
    "!rm ~/hexo/source/_posts/Hexo-Notebook.md\n",
    "!cd ~/hexo && node_modules/hexo/bin/hexo new post Hexo-Notebook\n",
    "!echo '{% asset_ipynb notebooks/Hexo-Notebook.ipynb %}' >> ~/hexo/source/_posts/Hexo-Notebook.md"
   ]
  },
  {
   "cell_type": "code",
   "execution_count": null,
   "metadata": {},
   "outputs": [],
   "source": [
    "!cd ~/hexo && node_modules/hexo/bin/hexo clean\n",
    "!cd ~/hexo && node_modules/hexo/bin/hexo server --debug"
   ]
  },
  {
   "cell_type": "code",
   "execution_count": 4,
   "metadata": {},
   "outputs": [
    {
     "name": "stdout",
     "output_type": "stream",
     "text": [
      "(node:16825) [DEP0061] DeprecationWarning: fs.SyncWriteStream is deprecated.\n",
      "\u001b[32mINFO \u001b[39m Start processing\n",
      "\u001b[32mINFO \u001b[39m Files loaded in \u001b[36m681 ms\u001b[39m\n",
      "\u001b[32mINFO \u001b[39m Generated: \u001b[35mindex.html\u001b[39m\n",
      "\u001b[32mINFO \u001b[39m Generated: \u001b[35mfavicon.png\u001b[39m\n",
      "\u001b[32mINFO \u001b[39m Generated: \u001b[35mabout/index.html\u001b[39m\n",
      "\u001b[32mINFO \u001b[39m Generated: \u001b[35mcategories/index.html\u001b[39m\n",
      "\u001b[32mINFO \u001b[39m Generated: \u001b[35mtags/index.html\u001b[39m\n",
      "\u001b[32mINFO \u001b[39m Generated: \u001b[35marchives/index.html\u001b[39m\n",
      "\u001b[32mINFO \u001b[39m Generated: \u001b[35mnotebooks/Hexo-Notebook.ipynb\u001b[39m\n",
      "\u001b[32mINFO \u001b[39m Generated: \u001b[35mfancybox/blank.gif\u001b[39m\n",
      "\u001b[32mINFO \u001b[39m Generated: \u001b[35mfonts/fontawesome-webfont.eot\u001b[39m\n",
      "\u001b[32mINFO \u001b[39m Generated: \u001b[35mimg/github-sprite.png\u001b[39m\n",
      "\u001b[32mINFO \u001b[39m Generated: \u001b[35mfancybox/jquery.fancybox.css\u001b[39m\n",
      "\u001b[32mINFO \u001b[39m Generated: \u001b[35mnotebooks/Jupyter-Magic.ipynb\u001b[39m\n",
      "\u001b[32mINFO \u001b[39m Generated: \u001b[35mfancybox/fancybox_loading.gif\u001b[39m\n",
      "\u001b[32mINFO \u001b[39m Generated: \u001b[35mfancybox/fancybox_loading@2x.gif\u001b[39m\n",
      "\u001b[32mINFO \u001b[39m Generated: \u001b[35mfancybox/fancybox_overlay.png\u001b[39m\n",
      "\u001b[32mINFO \u001b[39m Generated: \u001b[35mfancybox/fancybox_sprite.png\u001b[39m\n",
      "\u001b[32mINFO \u001b[39m Generated: \u001b[35mfancybox/fancybox_sprite@2x.png\u001b[39m\n",
      "\u001b[32mINFO \u001b[39m Generated: \u001b[35mfonts/fontawesome-webfont.woff\u001b[39m\n",
      "\u001b[32mINFO \u001b[39m Generated: \u001b[35mimg/glyphicons-halflings-white.png\u001b[39m\n",
      "\u001b[32mINFO \u001b[39m Generated: \u001b[35mimg/glyphicons-halflings.png\u001b[39m\n",
      "\u001b[32mINFO \u001b[39m Generated: \u001b[35mimg/grid-18px-masked.png\u001b[39m\n",
      "\u001b[32mINFO \u001b[39m Generated: \u001b[35mimg/grid-baseline-20px.png\u001b[39m\n",
      "\u001b[32mINFO \u001b[39m Generated: \u001b[35marchives/page/2/index.html\u001b[39m\n",
      "\u001b[32mINFO \u001b[39m Generated: \u001b[35marchives/2013/01/index.html\u001b[39m\n",
      "\u001b[32mINFO \u001b[39m Generated: \u001b[35marchives/2015/09/index.html\u001b[39m\n",
      "\u001b[32mINFO \u001b[39m Generated: \u001b[35marchives/2016/02/index.html\u001b[39m\n",
      "\u001b[32mINFO \u001b[39m Generated: \u001b[35marchives/2017/07/index.html\u001b[39m\n",
      "\u001b[32mINFO \u001b[39m Generated: \u001b[35marchives/2018/03/index.html\u001b[39m\n",
      "\u001b[32mINFO \u001b[39m Generated: \u001b[35marchives/2019/07/index.html\u001b[39m\n",
      "\u001b[32mINFO \u001b[39m Generated: \u001b[35mpage/2/index.html\u001b[39m\n",
      "\u001b[32mINFO \u001b[39m Generated: \u001b[35marchives/page/3/index.html\u001b[39m\n",
      "\u001b[32mINFO \u001b[39m Generated: \u001b[35marchives/page/4/index.html\u001b[39m\n",
      "\u001b[32mINFO \u001b[39m Generated: \u001b[35marchives/2015/10/index.html\u001b[39m\n",
      "\u001b[32mINFO \u001b[39m Generated: \u001b[35marchives/2016/03/index.html\u001b[39m\n",
      "\u001b[32mINFO \u001b[39m Generated: \u001b[35marchives/2016/05/index.html\u001b[39m\n",
      "\u001b[32mINFO \u001b[39m Generated: \u001b[35marchives/2017/08/index.html\u001b[39m\n",
      "\u001b[32mINFO \u001b[39m Generated: \u001b[35marchives/2018/05/index.html\u001b[39m\n",
      "\u001b[32mINFO \u001b[39m Generated: \u001b[35marchives/2018/11/index.html\u001b[39m\n",
      "\u001b[32mINFO \u001b[39m Generated: \u001b[35marchives/2019/09/index.html\u001b[39m\n",
      "\u001b[32mINFO \u001b[39m Generated: \u001b[35mpage/3/index.html\u001b[39m\n",
      "\u001b[32mINFO \u001b[39m Generated: \u001b[35mpage/4/index.html\u001b[39m\n",
      "\u001b[32mINFO \u001b[39m Generated: \u001b[35mfonts/FontAwesome.otf\u001b[39m\n",
      "\u001b[32mINFO \u001b[39m Generated: \u001b[35mfonts/fontawesome-webfont.ttf\u001b[39m\n",
      "\u001b[32mINFO \u001b[39m Generated: \u001b[35marchives/2013/index.html\u001b[39m\n",
      "\u001b[32mINFO \u001b[39m Generated: \u001b[35marchives/2015/index.html\u001b[39m\n",
      "\u001b[32mINFO \u001b[39m Generated: \u001b[35marchives/2016/index.html\u001b[39m\n",
      "\u001b[32mINFO \u001b[39m Generated: \u001b[35marchives/2017/index.html\u001b[39m\n",
      "\u001b[32mINFO \u001b[39m Generated: \u001b[35marchives/2017/09/index.html\u001b[39m\n",
      "\u001b[32mINFO \u001b[39m Generated: \u001b[35marchives/2018/index.html\u001b[39m\n",
      "\u001b[32mINFO \u001b[39m Generated: \u001b[35marchives/2019/index.html\u001b[39m\n",
      "\u001b[32mINFO \u001b[39m Generated: \u001b[35mcss/comment.css\u001b[39m\n",
      "\u001b[32mINFO \u001b[39m Generated: \u001b[35mjs/dbapi.js\u001b[39m\n",
      "\u001b[32mINFO \u001b[39m Generated: \u001b[35mfonts/google-fonts/0AKsP294HTD-nvJgucYTaIbN6UDyHWBl620a-IRfuBk.woff\u001b[39m\n",
      "\u001b[32mINFO \u001b[39m Generated: \u001b[35mcss/bootstrap-responsive.css\u001b[39m\n",
      "\u001b[32mINFO \u001b[39m Generated: \u001b[35mfancybox/jquery.fancybox.pack.js\u001b[39m\n",
      "\u001b[32mINFO \u001b[39m Generated: \u001b[35mjs/comment.js\u001b[39m\n",
      "\u001b[32mINFO \u001b[39m Generated: \u001b[35mcss/google-fonts.css\u001b[39m\n",
      "\u001b[32mINFO \u001b[39m Generated: \u001b[35mcss/highlight-default.min.css\u001b[39m\n",
      "\u001b[32mINFO \u001b[39m Generated: \u001b[35mcss/highlight.css\u001b[39m\n",
      "\u001b[32mINFO \u001b[39m Generated: \u001b[35mcss/responsive.css\u001b[39m\n",
      "\u001b[32mINFO \u001b[39m Generated: \u001b[35mjs/gallery.js\u001b[39m\n",
      "\u001b[32mINFO \u001b[39m Generated: \u001b[35mjs/github.js\u001b[39m\n",
      "\u001b[32mINFO \u001b[39m Generated: \u001b[35mjs/jquery.imagesloaded.min.js\u001b[39m\n",
      "\u001b[32mINFO \u001b[39m Generated: \u001b[35mjs/main.js\u001b[39m\n",
      "\u001b[32mINFO \u001b[39m Generated: \u001b[35mjs/search.js\u001b[39m\n",
      "\u001b[32mINFO \u001b[39m Generated: \u001b[35mjs/spin.min.js\u001b[39m\n",
      "\u001b[32mINFO \u001b[39m Generated: \u001b[35mjs/timeago.min.js\u001b[39m\n",
      "\u001b[32mINFO \u001b[39m Generated: \u001b[35mfonts/google-fonts/2UX7WLTfW3W8TclTUvlFyQ.woff\u001b[39m\n",
      "\u001b[32mINFO \u001b[39m Generated: \u001b[35mfonts/google-fonts/LKf8nhXsWg5ybwEGXk8UBQ.woff\u001b[39m\n",
      "\u001b[32mINFO \u001b[39m Generated: \u001b[35mfonts/google-fonts/PIPMHY90P7jtyjpXuZ2cLD8E0i7KZn-EPnyo3HZu7kw.woff\u001b[39m\n",
      "\u001b[32mINFO \u001b[39m Generated: \u001b[35mfonts/google-fonts/UyYrYy3ltEffJV9QueSi4RdbPw3QSf9R-kE0EsQUn2A.woff\u001b[39m\n",
      "\u001b[32mINFO \u001b[39m Generated: \u001b[35mfonts/google-fonts/cj2hUnSRBhwmSPr9kS5899kZXW4sYc4BjuAIFc1SXII.woff\u001b[39m\n",
      "\u001b[32mINFO \u001b[39m Generated: \u001b[35mfonts/google-fonts/lILlYDvubYemzYzN7GbLkHhCUOGz7vYGh680lGh-uXM.woff\u001b[39m\n",
      "\u001b[32mINFO \u001b[39m Generated: \u001b[35mfonts/google-fonts/0XxGQsSc1g4rdRdjJKZrNBsxEYwM7FgeyaSgU71cLG0.woff\u001b[39m\n",
      "\u001b[32mINFO \u001b[39m Generated: \u001b[35marchives/2017/09/page/2/index.html\u001b[39m\n",
      "\u001b[32mINFO \u001b[39m Generated: \u001b[35marchives/2017/page/2/index.html\u001b[39m\n",
      "\u001b[32mINFO \u001b[39m Generated: \u001b[35mcss/font-awesome.css\u001b[39m\n",
      "\u001b[32mINFO \u001b[39m Generated: \u001b[35mjs/bootstrap.min.js\u001b[39m\n",
      "\u001b[32mINFO \u001b[39m Generated: \u001b[35mjs/marked.js\u001b[39m\n",
      "\u001b[32mINFO \u001b[39m Generated: \u001b[35mcss/style.css\u001b[39m\n",
      "\u001b[32mINFO \u001b[39m Generated: \u001b[35mcss/themes/common.css\u001b[39m\n",
      "\u001b[32mINFO \u001b[39m Generated: \u001b[35mcss/themes/default.css\u001b[39m\n",
      "\u001b[32mINFO \u001b[39m Generated: \u001b[35m2019/07/17/心情糟透了/index.html\u001b[39m\n",
      "\u001b[32mINFO \u001b[39m Generated: \u001b[35m2018/11/16/中國人前輩努力為我洗腦之後/index.html\u001b[39m\n",
      "\u001b[32mINFO \u001b[39m Generated: \u001b[35m2017/09/30/爱的吸引/index.html\u001b[39m\n",
      "\u001b[32mINFO \u001b[39m Generated: \u001b[35m2016/05/16/A-Real-time-Automatic-Level-Bar-Calibration-Based-on-Canny-Edge-Detection-and-Weighted-Least-Squares-Method/index.html\u001b[39m\n",
      "\u001b[32mINFO \u001b[39m Generated: \u001b[35m2015/10/23/Reference/index.html\u001b[39m\n",
      "\u001b[32mINFO \u001b[39m Generated: \u001b[35m2013/01/25/feelings-I-m-missing-you/index.html\u001b[39m\n",
      "\u001b[32mINFO \u001b[39m Generated: \u001b[35m2018/05/19/探索研究/index.html\u001b[39m\n",
      "\u001b[32mINFO \u001b[39m Generated: \u001b[35m2018/03/27/日本語レッスン進捗/index.html\u001b[39m\n",
      "\u001b[32mINFO \u001b[39m Generated: \u001b[35m2017/08/22/面膜/index.html\u001b[39m\n",
      "\u001b[32mINFO \u001b[39m Generated: \u001b[35m2017/07/24/Snippet/index.html\u001b[39m\n",
      "\u001b[32mINFO \u001b[39m Generated: \u001b[35m2016/03/03/hello-world/index.html\u001b[39m\n",
      "\u001b[32mINFO \u001b[39m Generated: \u001b[35m2015/09/23/关于意义疗法/index.html\u001b[39m\n",
      "\u001b[32mINFO \u001b[39m Generated: \u001b[35m2019/09/30/Hexo-Notebook/index.html\u001b[39m\n",
      "\u001b[32mINFO \u001b[39m Generated: \u001b[35m2016/02/03/意义疗法导论/index.html\u001b[39m\n",
      "\u001b[32mINFO \u001b[39m Generated: \u001b[35m2019/07/16/死蔭的幽谷/index.html\u001b[39m\n",
      "\u001b[32mINFO \u001b[39m Generated: \u001b[35m2017/09/29/戀愛交往的兩個原則/index.html\u001b[39m\n",
      "\u001b[32mINFO \u001b[39m Generated: \u001b[35m2017/09/22/睡不着/index.html\u001b[39m\n",
      "\u001b[32mINFO \u001b[39m Generated: \u001b[35m2017/09/19/情殺/index.html\u001b[39m\n",
      "\u001b[32mINFO \u001b[39m Generated: \u001b[35m2017/09/18/被开发环境的设计实现验证的问题困扰了三天之久/index.html\u001b[39m\n",
      "\u001b[32mINFO \u001b[39m Generated: \u001b[35m2017/09/07/认耶稣为主/index.html\u001b[39m\n",
      "\u001b[32mINFO \u001b[39m Generated: \u001b[35m2017/09/04/我發現脫離了人群我就不能活/index.html\u001b[39m\n",
      "\u001b[32mINFO \u001b[39m Generated: \u001b[35m2017/09/03/心理防卫机制/index.html\u001b[39m\n",
      "\u001b[32mINFO \u001b[39m Generated: \u001b[35m2017/09/01/就算累也必須堅持學日語/index.html\u001b[39m\n",
      "\u001b[32mINFO \u001b[39m Generated: \u001b[35m2017/08/20/Skype授業/index.html\u001b[39m\n",
      "\u001b[32mINFO \u001b[39m Generated: \u001b[35m2017/08/16/JavaScript/index.html\u001b[39m\n",
      "\u001b[32mINFO \u001b[39m Generated: \u001b[35m2017/07/21/除了我的妻子以外，凡拉黑我的都去屎。/index.html\u001b[39m\n",
      "\u001b[32mINFO \u001b[39m Generated: \u001b[35m2015/09/03/My-First-Test/index.html\u001b[39m\n",
      "\u001b[32mINFO \u001b[39m Generated: \u001b[35m2018/11/11/论道德的谱系/index.html\u001b[39m\n",
      "\u001b[32mINFO \u001b[39m Generated: \u001b[35m2017/09/14/人間失格/index.html\u001b[39m\n",
      "\u001b[32mINFO \u001b[39m Generated: \u001b[35m2017/07/22/Hexo-研究/index.html\u001b[39m\n",
      "\u001b[32mINFO \u001b[39m Generated: \u001b[35m2015/09/30/最近码代码手感不错哟/index.html\u001b[39m\n",
      "\u001b[32mINFO \u001b[39m Generated: \u001b[35m2017/09/14/人间失格/index.html\u001b[39m\n",
      "\u001b[32mINFO \u001b[39m Generated: \u001b[35m2016/02/03/一个心理学家在集中营的经历/index.html\u001b[39m\n",
      "\u001b[32mINFO \u001b[39m Generated: \u001b[35m2015/09/03/Preface/index.html\u001b[39m\n",
      "\u001b[32mINFO \u001b[39m Generated: \u001b[35mjs/highlight.min.js\u001b[39m\n",
      "\u001b[32mINFO \u001b[39m Generated: \u001b[35mfonts/fontawesome-webfont.svg\u001b[39m\n",
      "\u001b[32mINFO \u001b[39m Generated: \u001b[35mcss/bootstrap.min.css\u001b[39m\n",
      "\u001b[32mINFO \u001b[39m Generated: \u001b[35mjs/jquery-2.0.3.min.js\u001b[39m\n",
      "\u001b[32mINFO \u001b[39m Generated: \u001b[35mcss/themes/united.css\u001b[39m\n",
      "\u001b[32mINFO \u001b[39m Generated: \u001b[35mcss/themes/bootstrap.css\u001b[39m\n",
      "\u001b[32mINFO \u001b[39m Generated: \u001b[35mcss/themes/cerulean.css\u001b[39m\n",
      "\u001b[32mINFO \u001b[39m Generated: \u001b[35mcss/themes/cosmo.css\u001b[39m\n",
      "\u001b[32mINFO \u001b[39m Generated: \u001b[35mcss/themes/cyborg.css\u001b[39m\n",
      "\u001b[32mINFO \u001b[39m Generated: \u001b[35mcss/themes/darkly.css\u001b[39m\n",
      "\u001b[32mINFO \u001b[39m Generated: \u001b[35mcss/themes/journal.css\u001b[39m\n",
      "\u001b[32mINFO \u001b[39m Generated: \u001b[35mcss/themes/readable.css\u001b[39m\n",
      "\u001b[32mINFO \u001b[39m Generated: \u001b[35mcss/themes/sandstone.css\u001b[39m\n",
      "\u001b[32mINFO \u001b[39m Generated: \u001b[35mcss/themes/simplex.css\u001b[39m\n",
      "\u001b[32mINFO \u001b[39m Generated: \u001b[35mcss/themes/spacelab.css\u001b[39m\n",
      "\u001b[32mINFO \u001b[39m Generated: \u001b[35mcss/themes/superhero.css\u001b[39m\n",
      "\u001b[32mINFO \u001b[39m Generated: \u001b[35mcss/themes/yeti.css\u001b[39m\n",
      "\u001b[32mINFO \u001b[39m Generated: \u001b[35mcss/themes/flatly.css\u001b[39m\n",
      "\u001b[32mINFO \u001b[39m Generated: \u001b[35mcss/themes/lumen.css\u001b[39m\n",
      "\u001b[32mINFO \u001b[39m Generated: \u001b[35mcss/themes/slate.css\u001b[39m\n",
      "\u001b[32mINFO \u001b[39m Generated: \u001b[35mcss/themes/paper.css\u001b[39m\n",
      "\u001b[32mINFO \u001b[39m 137 files generated in \u001b[36m1.94 s\u001b[39m\n",
      "\u001b[32mINFO \u001b[39m Deploying: \u001b[35mgit\u001b[39m\n",
      "\u001b[32mINFO \u001b[39m Clearing .deploy folder...\n",
      "\u001b[32mINFO \u001b[39m Copying files from public folder...\n",
      "[master 5ea11d8] Site updated: 2019-09-30 00:54:25\n",
      " 2 files changed, 110 insertions(+), 4 deletions(-)\n",
      "To https://github.com/seii-saintway/seii-saintway.github.io.git\n",
      "   be585f7..5ea11d8  master -> master\n",
      "Branch 'master' set up to track remote branch 'master' from 'https://github.com/seii-saintway/seii-saintway.github.io.git'.\n",
      "\u001b[32mINFO \u001b[39m Deploy done: \u001b[35mgit\u001b[39m\n"
     ]
    }
   ],
   "source": [
    "!cd ~/hexo && node_modules/hexo/bin/hexo generate --deploy"
   ]
  }
 ],
 "metadata": {
  "kernelspec": {
   "display_name": "Python 3",
   "language": "python",
   "name": "python3"
  },
  "language_info": {
   "codemirror_mode": {
    "name": "ipython",
    "version": 3
   },
   "file_extension": ".py",
   "mimetype": "text/x-python",
   "name": "python",
   "nbconvert_exporter": "python",
   "pygments_lexer": "ipython3",
   "version": "3.6.7"
  }
 },
 "nbformat": 4,
 "nbformat_minor": 4
}
