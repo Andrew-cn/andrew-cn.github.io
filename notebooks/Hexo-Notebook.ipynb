{
 "cells": [
  {
   "cell_type": "markdown",
   "metadata": {},
   "source": [
    "# A Primitive Post of ipynb"
   ]
  },
  {
   "cell_type": "code",
   "execution_count": 1,
   "metadata": {},
   "outputs": [
    {
     "name": "stdout",
     "output_type": "stream",
     "text": [
      "Cloning into 'hexo-ipynb'...\n",
      "remote: Enumerating objects: 58, done.\u001b[K\n",
      "remote: Total 58 (delta 0), reused 0 (delta 0), pack-reused 58\u001b[K\n",
      "Unpacking objects: 100% (58/58), done.\n"
     ]
    }
   ],
   "source": [
    "!sudo ln -sf `which python` /usr/bin/python\n",
    "!cd ~/hexo/node_modules && rm -rf hexo-ipynb\n",
    "!cd ~/hexo/node_modules && git clone --branch fix/freeman https://github.com/seii-saintway/hexo-ipynb.git"
   ]
  },
  {
   "cell_type": "code",
   "execution_count": 2,
   "metadata": {},
   "outputs": [
    {
     "name": "stdout",
     "output_type": "stream",
     "text": [
      "(node:16579) [DEP0061] DeprecationWarning: fs.SyncWriteStream is deprecated.\n",
      "\u001b[32mINFO \u001b[39m Created: \u001b[35m~/hexo/source/_posts/Hexo-Notebook.md\u001b[39m\n"
     ]
    }
   ],
   "source": [
    "!rm ~/hexo/source/_posts/Hexo-Notebook.md\n",
    "!cd ~/hexo && node_modules/hexo/bin/hexo new post Hexo-Notebook\n",
    "!echo '{% asset_ipynb notebooks/Hexo-Notebook.ipynb %}' >> ~/hexo/source/_posts/Hexo-Notebook.md"
   ]
  },
  {
   "cell_type": "code",
   "execution_count": null,
   "metadata": {},
   "outputs": [],
   "source": [
    "!cd ~/hexo && node_modules/hexo/bin/hexo clean\n",
    "!cd ~/hexo && node_modules/hexo/bin/hexo server --debug"
   ]
  },
  {
   "cell_type": "code",
   "execution_count": null,
   "metadata": {},
   "outputs": [],
   "source": [
    "!cd ~/hexo && node_modules/hexo/bin/hexo generate --deploy"
   ]
  }
 ],
 "metadata": {
  "kernelspec": {
   "display_name": "Python 3",
   "language": "python",
   "name": "python3"
  },
  "language_info": {
   "codemirror_mode": {
    "name": "ipython",
    "version": 3
   },
   "file_extension": ".py",
   "mimetype": "text/x-python",
   "name": "python",
   "nbconvert_exporter": "python",
   "pygments_lexer": "ipython3",
   "version": "3.6.7"
  }
 },
 "nbformat": 4,
 "nbformat_minor": 4
}
