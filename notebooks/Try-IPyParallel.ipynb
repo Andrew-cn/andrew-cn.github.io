{
 "cells": [
  {
   "cell_type": "markdown",
   "metadata": {},
   "source": [
    "* https://ipyparallel.readthedocs.io\n",
    "* https://docs.python.org/3/library/asyncio-task.html\n",
    "* https://realpython.com/async-io-python/"
   ]
  },
  {
   "cell_type": "markdown",
   "metadata": {},
   "source": [
    "* https://jupyter-kernel-gateway.readthedocs.io/en/latest/\n",
    "* https://jupyter-client.readthedocs.io/en/latest/kernels.html\n",
    "* https://jupyter-client.readthedocs.io/en/latest/wrapperkernels.html\n",
    "* https://github.com/dsblank/simple_kernel\n",
    "* https://jupyter-core.readthedocs.io/en/latest/"
   ]
  }
 ],
 "metadata": {
  "kernelspec": {
   "display_name": "Python 3",
   "language": "python",
   "name": "python3"
  },
  "language_info": {
   "codemirror_mode": {
    "name": "ipython",
    "version": 3
   },
   "file_extension": ".py",
   "mimetype": "text/x-python",
   "name": "python",
   "nbconvert_exporter": "python",
   "pygments_lexer": "ipython3",
   "version": "3.6.7"
  }
 },
 "nbformat": 4,
 "nbformat_minor": 4
}
