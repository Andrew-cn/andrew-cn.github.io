{
 "cells": [
  {
   "cell_type": "markdown",
   "metadata": {},
   "source": [
    "自己的想法一直受到各种各样的阻碍。我觉得在工作中所面临的人际关系问题的最根本的原因可能在于 DDD 思想和日本民族性的结合。\n",
    "\n",
    "我的原则：对于尚未实现的设计，开发者有权拒绝实现并且更改设计。"
   ]
  },
  {
   "cell_type": "markdown",
   "metadata": {},
   "source": [
    "0 对于被分配而不得不做的任务，不宜深思熟虑，而应赶紧做完。\n",
    "\n",
    "现在的目标：\n",
    "\n",
    "1 努力学习各种技术知识，提升自己的能力。\n",
    "\n",
    "2 努力找工作。找到工作后，以这个为筹码和上司谈判。\n",
    "\n",
    "  要他们满足我两个条件：\n",
    "\n",
    "  2.1 把我的业务分提到和我同期的宗楠一样\n",
    "\n",
    "  2.2 把我转到数据分析组\n",
    "\n",
    "**转到数据分析**是真正的目标。"
   ]
  },
  {
   "cell_type": "markdown",
   "metadata": {},
   "source": [
    "https://docs.google.com/document/d/147LyK93XqgM_d-Ud2OZf-TXyfJRnB4gVMu0IFT05KJQ/edit"
   ]
  },
  {
   "cell_type": "markdown",
   "metadata": {},
   "source": [
    "首先用中文"
   ]
  },
  {
   "cell_type": "markdown",
   "metadata": {},
   "source": [
    "重构了整个 MonotaRO Shareholder Gift Site。将登陆界面移到网站的入口处。将礼品套装加入搜索索引。重构了 AB 测试的框架。让各个子页面能够同时进行一项 AB 测试。"
   ]
  },
  {
   "cell_type": "markdown",
   "metadata": {},
   "source": [
    "创建了 MonotaRO 网站的用户认证的新机制。在新机制中，将用户身份相关的信息序列化并用 AES 加密后，存放在浏览器 cookie 中。从而，提高了网站安全性。正式部署之前，同时部署新旧认证机制，把用户登陆的情况输出到 BigQuery 来进行分析以确保正式部署没有问题。"
   ]
  },
  {
   "cell_type": "markdown",
   "metadata": {},
   "source": [
    "### 記憶的版本控制\n",
    "> 新知識的提交記錄\n",
    "\n",
    "簡歷：版本差異"
   ]
  }
 ],
 "metadata": {
  "kernelspec": {
   "display_name": "Python 3",
   "language": "python",
   "name": "python3"
  },
  "language_info": {
   "codemirror_mode": {
    "name": "ipython",
    "version": 3
   },
   "file_extension": ".py",
   "mimetype": "text/x-python",
   "name": "python",
   "nbconvert_exporter": "python",
   "pygments_lexer": "ipython3",
   "version": "3.6.7"
  }
 },
 "nbformat": 4,
 "nbformat_minor": 4
}
