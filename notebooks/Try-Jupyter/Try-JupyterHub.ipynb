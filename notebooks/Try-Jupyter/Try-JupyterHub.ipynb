{
 "cells": [
  {
   "cell_type": "markdown",
   "metadata": {},
   "source": [
    "https://github.com/jupyterhub/jupyterhub-deploy-teaching"
   ]
  },
  {
   "cell_type": "markdown",
   "metadata": {},
   "source": [
    "# Authentication and User Basics\n",
    "https://jupyterhub.readthedocs.io/en/stable/getting-started/authenticators-users-basics.html"
   ]
  },
  {
   "cell_type": "markdown",
   "metadata": {},
   "source": [
    "# Zero to JupyterHub\n",
    "* https://github.com/jupyterhub/zero-to-jupyterhub-k8s\n",
    "* https://z2jh.jupyter.org/en/latest/optimization.html\n",
    "* https://z2jh.jupyter.org/en/latest/advanced.html\n",
    "* https://github.com/jupyterhub/oauthenticator\n",
    "* https://github.com/mogthesprog/jwtauthenticator\n",
    "* https://stackoverflow.com/questions/54636656/how-do-i-use-google-iap-for-authenticating-to-jupyterhub"
   ]
  },
  {
   "cell_type": "markdown",
   "metadata": {},
   "source": [
    "# JupyterLab on JupyterHub\n",
    "* https://jupyterlab.readthedocs.io/en/stable/user/jupyterhub.html\n",
    "* https://stackoverflow.com/questions/55132540/jupyterlab-on-jupyterhub"
   ]
  },
  {
   "cell_type": "markdown",
   "metadata": {},
   "source": [
    "# Add a custom login page and assignments directory for each user on a Jupyter Hub server\n",
    "https://pythonforundergradengineers.com/assignments-dir-and-custom-login-page-to-jupyterhub.html"
   ]
  },
  {
   "cell_type": "markdown",
   "metadata": {},
   "source": [
    "# Security in the Jupyter notebook server\n",
    "https://jupyter-notebook.readthedocs.io/en/stable/security.html#Our-security-model"
   ]
  }
 ],
 "metadata": {
  "kernelspec": {
   "display_name": "Python 3",
   "language": "python",
   "name": "python3"
  },
  "language_info": {
   "codemirror_mode": {
    "name": "ipython",
    "version": 3
   },
   "file_extension": ".py",
   "mimetype": "text/x-python",
   "name": "python",
   "nbconvert_exporter": "python",
   "pygments_lexer": "ipython3",
   "version": "3.6.7"
  }
 },
 "nbformat": 4,
 "nbformat_minor": 4
}
