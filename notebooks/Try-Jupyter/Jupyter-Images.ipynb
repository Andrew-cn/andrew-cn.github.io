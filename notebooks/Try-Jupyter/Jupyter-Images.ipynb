{
 "cells": [
  {
   "cell_type": "markdown",
   "metadata": {},
   "source": [
    "https://hub.docker.com/r/niicloudoperation/notebook/dockerfile"
   ]
  },
  {
   "cell_type": "markdown",
   "metadata": {},
   "source": [
    "https://hub.docker.com/u/jupyter/\n",
    "\n",
    "* https://hub.docker.com/r/jupyter/base-notebook/dockerfile\n",
    "* https://hub.docker.com/r/jupyter/minimal-notebook/dockerfile\n",
    "* https://hub.docker.com/r/jupyter/scipy-notebook/dockerfile\n",
    "* https://hub.docker.com/r/jupyter/datascience-notebook/dockerfile\n",
    "* https://hub.docker.com/r/jupyter/tensorflow-notebook/dockerfile\n",
    "\n",
    "https://hub.docker.com/r/jupyter/nbviewer/dockerfile"
   ]
  }
 ],
 "metadata": {
  "kernelspec": {
   "display_name": "Python 3",
   "language": "python",
   "name": "python3"
  },
  "language_info": {
   "codemirror_mode": {
    "name": "ipython",
    "version": 3
   },
   "file_extension": ".py",
   "mimetype": "text/x-python",
   "name": "python",
   "nbconvert_exporter": "python",
   "pygments_lexer": "ipython3",
   "version": "3.6.7"
  }
 },
 "nbformat": 4,
 "nbformat_minor": 4
}
