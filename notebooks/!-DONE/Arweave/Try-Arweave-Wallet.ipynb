{
 "cells": [
  {
   "cell_type": "markdown",
   "metadata": {},
   "source": [
    "https://docs.arweave.org/info/wallets/arweave-web-extension-wallet"
   ]
  },
  {
   "cell_type": "markdown",
   "metadata": {},
   "source": [
    "#### Try AR Swap\n",
    "\n",
    "> Enter Arweave address for receiving AR after swap (ETH - AR)"
   ]
  },
  {
   "cell_type": "markdown",
   "metadata": {},
   "source": [
    "#### ETH <=> JPY: coincheck\n",
    "> ETH => JPY: +\n",
    "* https://coincheck.com/info/fee\n",
    "* https://coincheck.com/exchange/fee\n",
    "\n",
    "> * Receive ETH:\n",
    ">   * https://coincheck.com/deposit_bitcoin\n",
    ">   * 0x4fcd3b8e2750057e884aead08c40380cbe9f262e\n",
    "> * Send JPY Fee: 407 ¥\n",
    "> * Send ETH Fee: 0.01 ETH"
   ]
  },
  {
   "cell_type": "markdown",
   "metadata": {},
   "source": [
    "#### ETH <=> JPY: bitbank\n",
    "> ETH => JPY: ++\n",
    "* https://bitbank.cc/docs/fees/\n",
    "\n",
    "> * Receive ETH:\n",
    ">   * 0xCC9A245F6686B7b2A30B376280Cce2463f8f767f\n",
    "> * Send JPY Fee: 550 ¥ ／ 770 ¥ （ >= 30,000 ¥ ）\n",
    "> * Send ETH Fee: 0.05 ETH → 0.005 ETH"
   ]
  },
  {
   "cell_type": "markdown",
   "metadata": {},
   "source": [
    "#### AR <=> ETH: MXC\n",
    "https://www.mxc.com/"
   ]
  },
  {
   "cell_type": "markdown",
   "metadata": {},
   "source": [
    "#### => Python Stream Data Prediction\n",
    "* https://www.mql4.com\n",
    "* https://www.mql5.com"
   ]
  },
  {
   "cell_type": "markdown",
   "metadata": {},
   "source": [
    "2020/8/8 这次兑币操作和币价波动 总共损失 **30+** / 300+ $"
   ]
  }
 ],
 "metadata": {
  "kernelspec": {
   "display_name": "Python 3",
   "language": "python",
   "name": "python3"
  },
  "language_info": {
   "codemirror_mode": {
    "name": "ipython",
    "version": 3
   },
   "file_extension": ".py",
   "mimetype": "text/x-python",
   "name": "python",
   "nbconvert_exporter": "python",
   "pygments_lexer": "ipython3",
   "version": "3.6.7"
  }
 },
 "nbformat": 4,
 "nbformat_minor": 4
}
