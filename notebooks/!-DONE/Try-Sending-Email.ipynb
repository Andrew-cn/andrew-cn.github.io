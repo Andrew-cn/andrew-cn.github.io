{
 "cells": [
  {
   "cell_type": "markdown",
   "metadata": {},
   "source": [
    "https://docs.python.org/3/library/email.examples.html\n",
    "\n",
    "`sudo python -m smtpd -n -c DebuggingServer localhost:25`"
   ]
  },
  {
   "cell_type": "markdown",
   "metadata": {},
   "source": [
    "`sudo -HE apt install -y opensmtpd`"
   ]
  },
  {
   "cell_type": "markdown",
   "metadata": {},
   "source": [
    "http://www.google.com/accounts/DisplayUnlockCaptcha"
   ]
  },
  {
   "cell_type": "code",
   "execution_count": null,
   "metadata": {},
   "outputs": [],
   "source": [
    "# Import smtplib for the actual sending function\n",
    "import smtplib\n",
    "\n",
    "# Import the email modules we'll need\n",
    "from email.message import EmailMessage\n",
    "\n",
    "# Create a text/plain message\n",
    "msg = EmailMessage()\n",
    "\n",
    "# me == the sender's email address\n",
    "# you == the recipient's email address\n",
    "msg['Subject'] = '2020/06/05週報（データマーケティング部門：盛 偉）'\n",
    "msg['From'] = 'sheng_wei@monotaro.com'\n",
    "msg['To'] = 'bumoncho@monotaro.com, taisuke.fukawa@monotaro.com'\n",
    "msg['Cc'] = 'masato.nakamura@monotaro.com, gao_yang@monotaro.com'\n",
    "msg.set_content('''\n",
    "お疲れ様です。盛です。2020/06/05 の週次報告を致します。\n",
    "\n",
    "■今週やったこと\n",
    "・　no logic found という info message が 6月1日 から急に増える原因の調査\n",
    "・　placement ごとの log level を設定できるようにする\n",
    "\n",
    "■分かったこと\n",
    "・　RecSys の一部ロジック\n",
    "\n",
    "■次にやること\n",
    "・　RecSys に関する調査\n",
    "・　目標設定とスケジューリング\n",
    "\n",
    "■やるメリット\n",
    "・　RecSys に関する調査\n",
    "　・　RecSys を学ぶために\n",
    "\n",
    "■所感\n",
    "・　特になし\n",
    "''')\n",
    "\n",
    "# Send the message via gmail SMTP server.\n",
    "server = smtplib.SMTP_SSL('smtp.gmail.com', 465)\n",
    "server.ehlo()\n",
    "server.login('sheng_wei@monotaro.com', 'xolugy8D')\n",
    "server.send_message(msg)\n",
    "server.quit()"
   ]
  }
 ],
 "metadata": {
  "kernelspec": {
   "display_name": "Python 3",
   "language": "python",
   "name": "python3"
  },
  "language_info": {
   "codemirror_mode": {
    "name": "ipython",
    "version": 3
   },
   "file_extension": ".py",
   "mimetype": "text/x-python",
   "name": "python",
   "nbconvert_exporter": "python",
   "pygments_lexer": "ipython3",
   "version": "3.6.7"
  }
 },
 "nbformat": 4,
 "nbformat_minor": 4
}
