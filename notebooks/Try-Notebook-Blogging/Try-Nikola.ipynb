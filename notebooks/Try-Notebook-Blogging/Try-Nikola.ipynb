{
 "cells": [
  {
   "cell_type": "markdown",
   "metadata": {},
   "source": [
    "* https://github.com/getnikola/nikola\n",
    "* https://getnikola.com/handbook.html\n",
    "* http://damianavila.github.io/blog/posts/one-line-deployment-of-your-site-to-gh-pages.html\n",
    "* http://damianavila.github.io/blog/posts/blogging-with-nikola-and-ipython.html\n",
    "* http://www.jaakkoluttinen.fi/blog/how-to-blog-with-jupyter-ipython-notebook-and-nikola/\n",
    "* https://jiaweizhuang.github.io/blog/nikola-guide/"
   ]
  }
 ],
 "metadata": {
  "kernelspec": {
   "display_name": "Python 3",
   "language": "python",
   "name": "python3"
  },
  "language_info": {
   "codemirror_mode": {
    "name": "ipython",
    "version": 3
   },
   "file_extension": ".py",
   "mimetype": "text/x-python",
   "name": "python",
   "nbconvert_exporter": "python",
   "pygments_lexer": "ipython3",
   "version": "3.6.7"
  }
 },
 "nbformat": 4,
 "nbformat_minor": 4
}
