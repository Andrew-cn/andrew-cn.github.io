{
 "cells": [
  {
   "cell_type": "markdown",
   "metadata": {},
   "source": [
    "* Chrome 自动填充中出现两个我没有印象的记录。\n",
    "* 怀疑 SI 的人暗地里用我的 Chrome 试着登陆过。去检查了一下 JupyterHub 的访问记录，没有发现相关的记录。\n",
    "* 前些天在公司换了新电脑。可能是因为在 Chrome 上重新登陆了公司邮箱的账号。Chrome 的相关历史记录自动地同步了。"
   ]
  },
  {
   "cell_type": "code",
   "execution_count": null,
   "metadata": {},
   "outputs": [],
   "source": [
    "import random\n",
    "import string\n",
    "''.join(\n",
    "    random.choices(string.ascii_letters, k=6)\n",
    ")\n",
    "# https://resv.ecc.co.jp/\n",
    "# SAINTWAY\n",
    "# saintway@icloud.com\n",
    "# rLSdzn"
   ]
  },
  {
   "cell_type": "code",
   "execution_count": 1,
   "metadata": {},
   "outputs": [
    {
     "data": {
      "text/plain": [
       "'ABhjCJHOLzJ2!'"
      ]
     },
     "execution_count": 1,
     "metadata": {},
     "output_type": "execute_result"
    }
   ],
   "source": [
    "import random\n",
    "import string\n",
    "''.join(\n",
    "    random.choices(string.ascii_letters + string.digits, k=12) + ['!']\n",
    ")"
   ]
  },
  {
   "cell_type": "code",
   "execution_count": 2,
   "metadata": {},
   "outputs": [
    {
     "data": {
      "text/plain": [
       "'jxthmunaifxamtap'"
      ]
     },
     "execution_count": 2,
     "metadata": {},
     "output_type": "execute_result"
    }
   ],
   "source": [
    "import random\n",
    "import string\n",
    "''.join(\n",
    "    random.choices(string.ascii_lowercase, k=16)\n",
    ")"
   ]
  },
  {
   "cell_type": "code",
   "execution_count": 2,
   "metadata": {},
   "outputs": [
    {
     "data": {
      "text/plain": [
       "'jxthmunaifxamtap'"
      ]
     },
     "execution_count": 2,
     "metadata": {},
     "output_type": "execute_result"
    }
   ],
   "source": [
    "import random\n",
    "import string\n",
    "''.join(\n",
    "    random.choices(string.ascii_lowercase, k=16)\n",
    ")\n",
    "\n",
    "# Amazon\n",
    "# saintway@icloud.com\n",
    "# jxthmunaifxamtap"
   ]
  }
 ],
 "metadata": {
  "kernelspec": {
   "display_name": "Python 3",
   "language": "python",
   "name": "python3"
  },
  "language_info": {
   "codemirror_mode": {
    "name": "ipython",
    "version": 3
   },
   "file_extension": ".py",
   "mimetype": "text/x-python",
   "name": "python",
   "nbconvert_exporter": "python",
   "pygments_lexer": "ipython3",
   "version": "3.6.7"
  }
 },
 "nbformat": 4,
 "nbformat_minor": 4
}
