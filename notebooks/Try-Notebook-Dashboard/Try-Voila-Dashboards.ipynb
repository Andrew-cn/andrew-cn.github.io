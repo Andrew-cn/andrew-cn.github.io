{
 "cells": [
  {
   "cell_type": "markdown",
   "metadata": {},
   "source": [
    "* https://github.com/voila-dashboards/voila\n",
    "* https://github.com/voila-dashboards/gallery"
   ]
  },
  {
   "cell_type": "markdown",
   "metadata": {},
   "source": [
    "# Try Voilà"
   ]
  },
  {
   "cell_type": "code",
   "execution_count": null,
   "metadata": {},
   "outputs": [],
   "source": [
    "!voila ~"
   ]
  },
  {
   "cell_type": "markdown",
   "metadata": {},
   "source": [
    "http://jhub.name:8866/voila/render/nbgitpuller/binder/link_generator.ipynb"
   ]
  },
  {
   "cell_type": "code",
   "execution_count": 1,
   "metadata": {},
   "outputs": [
    {
     "data": {
      "text/plain": [
       "{'_dom_classes': [],\n",
       " '_model_module': '@jupyter-widgets/controls',\n",
       " '_model_module_version': '1.4.0',\n",
       " '_model_name': 'TextModel',\n",
       " '_view_count': None,\n",
       " '_view_module': '@jupyter-widgets/controls',\n",
       " '_view_module_version': '1.4.0',\n",
       " '_view_name': 'TextView',\n",
       " 'continuous_update': True,\n",
       " 'description': 'hub_url',\n",
       " 'description_tooltip': None,\n",
       " 'disabled': False,\n",
       " 'layout': 'IPY_MODEL_853d8ed268f846f199a0d40ed2955d76',\n",
       " 'placeholder': '\\u200b',\n",
       " 'style': 'IPY_MODEL_d250904f9d7f4ca2ac058bd27f30dd08',\n",
       " 'value': ''}"
      ]
     },
     "execution_count": 1,
     "metadata": {},
     "output_type": "execute_result"
    }
   ],
   "source": [
    "snippet = !curl -s http://jhub.name:8866/voila/render/nbgitpuller/binder/link_generator.ipynb | grep -oe '{[^{}]*hub_url[^{}]*}'\n",
    "import json\n",
    "json.loads(snippet[0])"
   ]
  },
  {
   "cell_type": "markdown",
   "metadata": {},
   "source": [
    "# Compare to Commuter"
   ]
  },
  {
   "cell_type": "code",
   "execution_count": null,
   "metadata": {},
   "outputs": [],
   "source": [
    "!cd ~ && commuter"
   ]
  },
  {
   "cell_type": "markdown",
   "metadata": {},
   "source": [
    "http://jhub.name:4000/view/nbgitpuller/binder/link_generator.ipynb"
   ]
  },
  {
   "cell_type": "code",
   "execution_count": 2,
   "metadata": {},
   "outputs": [
    {
     "data": {
      "text/html": [
       "<span>interactive(children=(Text(value=&#x27;&#x27;, description=&#x27;hub_url&#x27;), Text(value=&#x27;&#x27;, description=&#x27;clone_cmd&#x27;), Text(val…</span>"
      ],
      "text/plain": [
       "<IPython.core.display.HTML object>"
      ]
     },
     "execution_count": 2,
     "metadata": {},
     "output_type": "execute_result"
    }
   ],
   "source": [
    "snippet = !curl -s http://jhub.name:4000/view/nbgitpuller/binder/link_generator.ipynb | grep -oe '<[^<>]*>[^<>]*interactive[^<>]*</[^<>]*>'\n",
    "from IPython.display import HTML\n",
    "HTML(snippet[0])"
   ]
  },
  {
   "cell_type": "markdown",
   "metadata": {},
   "source": [
    "> So the Voila with Notebook is like Ploty-Dash with Python.\n",
    "> Voila can render ipynb, while NBViewer/Commuter can just display ipynb without rendering."
   ]
  },
  {
   "cell_type": "markdown",
   "metadata": {},
   "source": [
    "# Try [Voilà Gallery](https://github.com/voila-dashboards/gallery)"
   ]
  },
  {
   "cell_type": "markdown",
   "metadata": {},
   "source": [
    "> Voilà can display rendered ipynb via local file system.\n",
    ">\n",
    "> Voilà Gallery can display rendered ipynb via Github etc. by using repo2docker, exactly the same way Binder does."
   ]
  }
 ],
 "metadata": {
  "kernelspec": {
   "display_name": "Python 3",
   "language": "python",
   "name": "python3"
  },
  "language_info": {
   "codemirror_mode": {
    "name": "ipython",
    "version": 3
   },
   "file_extension": ".py",
   "mimetype": "text/x-python",
   "name": "python",
   "nbconvert_exporter": "python",
   "pygments_lexer": "ipython3",
   "version": "3.6.7"
  }
 },
 "nbformat": 4,
 "nbformat_minor": 4
}
